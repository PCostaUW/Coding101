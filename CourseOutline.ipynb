{
 "cells": [
  {
   "cell_type": "markdown",
   "id": "7b693eea-d351-4bec-9145-9f825dd673ad",
   "metadata": {},
   "source": [
    "Lesson 1\n",
    "-\n",
    "    -installing python and jupyter lab\n",
    "    -Hello World! (strings)\n",
    "    -comments #\n",
    "    -integers, floats, and booleans, combining them with strings"
   ]
  },
  {
   "cell_type": "markdown",
   "id": "06eeeb01-deee-4504-b9f8-02676564473d",
   "metadata": {},
   "source": [
    "Lesson 2\n",
    "-\n",
    "    -kahoot/revision of lesson 1\n",
    "    -intro to turtle. What is a library? Why are we using turtle?\n",
    "    -basic turtle movement\n",
    "    -while loops\n",
    "    -functions (and docstrings)\n",
    "    -for loops\n",
    "    -creating functions to draw the connect 4 board and circles"
   ]
  },
  {
   "cell_type": "markdown",
   "id": "75dc7106-d695-403b-8091-135e84fc9d45",
   "metadata": {},
   "source": [
    "Lesson 3\n",
    "-\n",
    "    -kahoot/revision of lesson 2\n",
    "    -what actually IS the turtle? (object-oriented programming definition)\n",
    "    -if statements\n",
    "    -using if statements with turtle (related to determining when someone has won connect 4)\n",
    "    -more turtle methods (circle, up, down, goto)\n",
    "    -nested for loops (draw the circles inside the connect 4 board)\n",
    "    -updating values in for loops\n"
   ]
  },
  {
   "cell_type": "markdown",
   "id": "c25c3a12-6710-44d6-ac77-4911c923f4b3",
   "metadata": {},
   "source": [
    "Lesson 4\n",
    "-\n",
    "    -present the connect 4 game to the students\n",
    "    -ask them to brainstorm what all of the functions needed to make this game are and, in pseudo-code, write them together on a whiteboard (pseudo code intro, example)\n",
    "    -let them begin coding the game for the rest of the session\n",
    "   "
   ]
  },
  {
   "cell_type": "markdown",
   "id": "2fe0de2a-8a93-4631-97f2-36c8cdc8f78d",
   "metadata": {},
   "source": [
    "Lesson 5\n",
    "    -Finish Connect 4 game"
   ]
  },
  {
   "cell_type": "markdown",
   "id": "ca072b37-2567-4fb7-b14e-ad03ecd08575",
   "metadata": {},
   "source": [
    "Lesson 6"
   ]
  },
  {
   "cell_type": "markdown",
   "id": "503740e5-82dd-44e3-96d0-0a910b67a219",
   "metadata": {},
   "source": [
    "Lesson 7"
   ]
  },
  {
   "cell_type": "markdown",
   "id": "d64b5f21-5930-404e-9b4d-abf780d058e1",
   "metadata": {},
   "source": [
    "Lesson 8\n",
    "-\n",
    "    -tease website designing"
   ]
  }
 ],
 "metadata": {
  "kernelspec": {
   "display_name": "Python 3 (ipykernel)",
   "language": "python",
   "name": "python3"
  },
  "language_info": {
   "codemirror_mode": {
    "name": "ipython",
    "version": 3
   },
   "file_extension": ".py",
   "mimetype": "text/x-python",
   "name": "python",
   "nbconvert_exporter": "python",
   "pygments_lexer": "ipython3",
   "version": "3.11.2"
  }
 },
 "nbformat": 4,
 "nbformat_minor": 5
}
