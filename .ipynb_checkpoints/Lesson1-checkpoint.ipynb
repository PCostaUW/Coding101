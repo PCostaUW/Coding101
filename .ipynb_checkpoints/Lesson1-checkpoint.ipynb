{
 "cells": [
  {
   "cell_type": "raw",
   "id": "065359e3-a740-4ef2-9d05-19799f7d658b",
   "metadata": {},
   "source": [
    "Lesson 1\n",
    "-\n",
    "-installing python and jupyter lab\n",
    "-Hello World! (strings)\n",
    "-comments #\n",
    "-integers, floats, and booleans, combining them with strings"
   ]
  },
  {
   "cell_type": "code",
   "execution_count": 1,
   "id": "dd172f41-b613-4d81-9d12-3e32764a9847",
   "metadata": {},
   "outputs": [
    {
     "name": "stdout",
     "output_type": "stream",
     "text": [
      "Hello World!\n"
     ]
    }
   ],
   "source": [
    "#Hello World!\n",
    "print('Hello World!') #this is a string"
   ]
  },
  {
   "cell_type": "code",
   "execution_count": 7,
   "id": "869ce824-b6c1-49c3-857e-458ce6482a5a",
   "metadata": {},
   "outputs": [
    {
     "name": "stdout",
     "output_type": "stream",
     "text": [
      "x = 2\n",
      "y = 3\n",
      "x + y = 5\n",
      "\n",
      "\n",
      "a = 1.2\n",
      "b = 5.6\n",
      "a + b = 6.8\n",
      "a = 1.2 : True\n",
      "a = b : False\n",
      "a > b : False\n",
      "a < b : True\n"
     ]
    }
   ],
   "source": [
    "#Data types: integers, strings, floats, booleans\n",
    "\n",
    "x = 2 #integer\n",
    "y = 3 #integer\n",
    "print('x = '+str(x)) #cast x to a string in order to add it to the end of a string\n",
    "print('y = '+str(y)) #same as above but with y\n",
    "print(f'x + y = {x+y}') #print the sum by using an f-string\n",
    "\n",
    "print('\\n') #make a new line\n",
    "\n",
    "a=1.2 #float\n",
    "b=5.6 #float\n",
    "print('a = '+str(a)) #can cast a float to a string just as we did for an integer\n",
    "print('b = '+str(b))\n",
    "print(f'a + b = {a+b}') #can use an f-string to add floats\n",
    "\n",
    "\n",
    "#booleans\n",
    "print('a = '+str(a)+' : ' +str(a==a))\n",
    "print('a = b : '+str(a==b))\n",
    "print('a > b : '+str(a>b))\n",
    "print('a < b : '+str(a<b))\n"
   ]
  },
  {
   "cell_type": "code",
   "execution_count": null,
   "id": "5d6138e2-2210-48d6-81cc-47bf821ca1b3",
   "metadata": {},
   "outputs": [],
   "source": [
    "#strings\n",
    "name = \"Pat\"\n",
    "another_name = 'John'"
   ]
  },
  {
   "cell_type": "code",
   "execution_count": null,
   "id": "5722d1a8-0d03-42b9-a114-4c4fc8b11aaa",
   "metadata": {},
   "outputs": [],
   "source": [
    "#ints\n",
    "number = 2\n",
    "another_number = -6\n",
    "\n"
   ]
  },
  {
   "cell_type": "code",
   "execution_count": null,
   "id": "f0863fcd-0846-4f4c-8a55-3c8da1e3f13c",
   "metadata": {},
   "outputs": [],
   "source": [
    "#floats\n",
    "my_float = 2.4"
   ]
  },
  {
   "cell_type": "code",
   "execution_count": null,
   "id": "7bb637c4-26f3-4e67-9f25-148c57eb2911",
   "metadata": {},
   "outputs": [],
   "source": [
    "#bools\n",
    "fact = True\n",
    "wrong = False"
   ]
  },
  {
   "cell_type": "code",
   "execution_count": null,
   "id": "d25d9fb7-720f-4507-995d-b31af52333de",
   "metadata": {},
   "outputs": [],
   "source": [
    "#lists\n",
    "numbers = [1,5,8,4]\n",
    "words_nums = ['cactus', 80.4, 3, 'where']"
   ]
  },
  {
   "cell_type": "code",
   "execution_count": null,
   "id": "2086258a-ac50-4255-95df-3bef270b06a0",
   "metadata": {},
   "outputs": [],
   "source": [
    "x = 2 #integer\n",
    "y = 3 #integer\n",
    "print('x = '+str(x)) #cast x to a string in order to add it to the end of a string\n",
    "print('y = '+str(y)) #same as above but with y\n",
    "print(f'x + y = {x+y}') #print the sum by using an f-string"
   ]
  }
 ],
 "metadata": {
  "kernelspec": {
   "display_name": "Python 3 (ipykernel)",
   "language": "python",
   "name": "python3"
  },
  "language_info": {
   "codemirror_mode": {
    "name": "ipython",
    "version": 3
   },
   "file_extension": ".py",
   "mimetype": "text/x-python",
   "name": "python",
   "nbconvert_exporter": "python",
   "pygments_lexer": "ipython3",
   "version": "3.11.2"
  }
 },
 "nbformat": 4,
 "nbformat_minor": 5
}
