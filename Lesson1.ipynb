{
 "cells": [
  {
   "cell_type": "raw",
   "id": "065359e3-a740-4ef2-9d05-19799f7d658b",
   "metadata": {},
   "source": [
    "Lesson 1\n",
    "-\n",
    "-installing python and jupyter lab\n",
    "-Hello World! (strings)\n",
    "-comments #\n",
    "-integers, floats, and booleans, combining them with strings\n",
    "-intro to turtle. What is a library? Why are we using turtle?\n",
    "-basic turtle movement\n",
    "-while loops\n",
    "-functions\n",
    "-for loops"
   ]
  },
  {
   "cell_type": "code",
   "execution_count": 1,
   "id": "dd172f41-b613-4d81-9d12-3e32764a9847",
   "metadata": {},
   "outputs": [
    {
     "name": "stdout",
     "output_type": "stream",
     "text": [
      "Hello World!\n"
     ]
    }
   ],
   "source": [
    "#Hello World!\n",
    "print('Hello World!') #this is a string"
   ]
  },
  {
   "cell_type": "code",
   "execution_count": 36,
   "id": "869ce824-b6c1-49c3-857e-458ce6482a5a",
   "metadata": {},
   "outputs": [
    {
     "name": "stdout",
     "output_type": "stream",
     "text": [
      "x = 2\n",
      "y = 3\n",
      "x + y = 5\n",
      "\n",
      "\n",
      "a = 1.2\n",
      "b = 5.6\n",
      "a + b = 6.8\n",
      "a = 1.2 : True\n",
      "a = b : False\n",
      "a > b : False\n",
      "a < b : True\n"
     ]
    }
   ],
   "source": [
    "#Data types: integers, strings, floats, booleans\n",
    "\n",
    "x = 2 #integer\n",
    "y = 3 #integer\n",
    "print('x = '+str(x)) #cast x to a string in order to add it to the end of a string\n",
    "print('y = '+str(y)) #same as above but with y\n",
    "print(f'x + y = {x+y}') #print the sum by using an f-string\n",
    "\n",
    "print('\\n') #make a new line\n",
    "\n",
    "a=1.2 #float\n",
    "b=5.6 #float\n",
    "print('a = '+str(a)) #can cast a float to a string just as we did for an integer\n",
    "print('b = '+str(b))\n",
    "print(f'a + b = {a+b}') #can use an f-string to add floats\n",
    "\n",
    "\n",
    "#booleans\n",
    "print('a = '+str(a)+' : ' +str(a==a))\n",
    "print('a = b : '+str(a==b))\n",
    "print('a > b : '+str(a>b))\n",
    "print('a < b : '+str(a<b))\n"
   ]
  },
  {
   "cell_type": "code",
   "execution_count": 2,
   "id": "99368465-4ad3-4cc7-a3c4-44604c4b1c65",
   "metadata": {},
   "outputs": [],
   "source": [
    "#Introducing turtle\n",
    "#Why are we having you use turtle? \n",
    "# -visual feedback\n",
    "# -room for creativity and experimentation\n",
    "# -can progress toward a tangible final project/game that demonstrates your understanding of the basics of programming\n",
    "\n",
    "#Step 1: import turtle\n",
    "from turtle import * #installs everything from the turtle package. Fine for now, but we will soonbe more picky about what we import\n",
    "#potential error: 'No module name '_tkinter''\n",
    "#solution: pip install tk\n",
    "\n",
    "#Step 2: basic turtle commands (run each of these in their own cell so we can look at how each affects the turtle's movement)"
   ]
  },
  {
   "cell_type": "code",
   "execution_count": 27,
   "id": "18852010-5585-432d-bf82-14a8d1014bb4",
   "metadata": {},
   "outputs": [],
   "source": [
    "clearscreen()"
   ]
  },
  {
   "cell_type": "code",
   "execution_count": 28,
   "id": "9eefe1b8-44b8-4b91-b3bc-643eb2b97bbb",
   "metadata": {},
   "outputs": [],
   "source": [
    "forward(100) #move the turtle forward 100 units"
   ]
  },
  {
   "cell_type": "code",
   "execution_count": 29,
   "id": "1332b905-ad4f-4ceb-97a5-b70d78095d13",
   "metadata": {},
   "outputs": [],
   "source": [
    "right(45) #rotate the turtle 45 degrees clockwise"
   ]
  },
  {
   "cell_type": "code",
   "execution_count": 30,
   "id": "4245bcd7-5e79-467e-85d5-1677270de108",
   "metadata": {},
   "outputs": [],
   "source": [
    "forward(20) #move the turtle 20 units in the newly defined forward direction"
   ]
  },
  {
   "cell_type": "code",
   "execution_count": 31,
   "id": "3bd2374b-621d-4bd5-bfb6-6f656ac46e58",
   "metadata": {},
   "outputs": [],
   "source": [
    "left(90) #rotate the turtle 90 degrees counter-clockwise"
   ]
  },
  {
   "cell_type": "code",
   "execution_count": 32,
   "id": "eb7dbf82-67fe-4aac-86de-7be45d1cbebd",
   "metadata": {},
   "outputs": [],
   "source": [
    "backward(50) #move the turtle backward 50 units"
   ]
  },
  {
   "cell_type": "code",
   "execution_count": 9,
   "id": "be368476-f7d9-44c3-94c1-3371706a5fab",
   "metadata": {},
   "outputs": [],
   "source": [
    "#Now I want you to make a square and a triangle.\n",
    "#Also, a very important skill to develop is your ability to read documentation\n",
    "#change the color of your lines and fill in your shapes with a color of your choice"
   ]
  },
  {
   "cell_type": "code",
   "execution_count": 33,
   "id": "cf81e68f-896b-427d-98a6-2269e552addb",
   "metadata": {},
   "outputs": [],
   "source": [
    "clearscreen()"
   ]
  },
  {
   "cell_type": "code",
   "execution_count": 34,
   "id": "a858df98-106a-41dc-a543-65c51002e84e",
   "metadata": {},
   "outputs": [],
   "source": [
    "#square\n",
    "#define colors and initialize coloring\n",
    "color('red')\n",
    "fillcolor('orange')\n",
    "begin_fill()\n",
    "\n",
    "forward(100)\n",
    "left(90)\n",
    "forward(100)\n",
    "left(90)\n",
    "forward(100)\n",
    "left(90)\n",
    "forward(100)\n",
    "\n",
    "#fill in your square with the color of your choice\n",
    "end_fill()"
   ]
  },
  {
   "cell_type": "code",
   "execution_count": 35,
   "id": "abcd2863-b7b0-4973-9105-89138fc434dd",
   "metadata": {},
   "outputs": [],
   "source": [
    "clearscreen()"
   ]
  },
  {
   "cell_type": "code",
   "execution_count": 43,
   "id": "011f3445-801b-4c22-89dd-b3fdecef70bc",
   "metadata": {},
   "outputs": [],
   "source": [
    "#triangle\n",
    "#define colors and initialize coloring\n",
    "color('orange')\n",
    "fillcolor('blue')\n",
    "begin_fill()\n",
    "\n",
    "forward(300)\n",
    "left(120)\n",
    "forward(300)\n",
    "left(120)\n",
    "forward(300)\n",
    "\n",
    "#fill in your square with the color of your choice\n",
    "end_fill()"
   ]
  },
  {
   "cell_type": "code",
   "execution_count": 38,
   "id": "ea3af3ba-46f2-4eb3-a92f-54883a2b1b0b",
   "metadata": {},
   "outputs": [],
   "source": [
    "#Now, without clearing your screen, run the above cell a few more times and notice what is happening\n",
    "#the turtle remains in its final position and orientation and then continues to draw once the cell is run again\n",
    "#we can see that it will repeat this pattern forever if we keep running that cell\n",
    "#Instead of manually re-running the cell to achieve this pattern, we can create what is called a \"loop\""
   ]
  },
  {
   "cell_type": "code",
   "execution_count": 44,
   "id": "b5765560-4bf3-49c7-be6a-9af830c60a67",
   "metadata": {},
   "outputs": [
    {
     "ename": "KeyboardInterrupt",
     "evalue": "",
     "output_type": "error",
     "traceback": [
      "\u001b[0;31m---------------------------------------------------------------------------\u001b[0m",
      "\u001b[0;31mKeyboardInterrupt\u001b[0m                         Traceback (most recent call last)",
      "Cell \u001b[0;32mIn [44], line 11\u001b[0m\n\u001b[1;32m      9\u001b[0m forward(\u001b[38;5;241m300\u001b[39m)\n\u001b[1;32m     10\u001b[0m left(\u001b[38;5;241m120\u001b[39m)\n\u001b[0;32m---> 11\u001b[0m \u001b[43mforward\u001b[49m\u001b[43m(\u001b[49m\u001b[38;5;241;43m300\u001b[39;49m\u001b[43m)\u001b[49m\n\u001b[1;32m     13\u001b[0m \u001b[38;5;66;03m#fill in your square with the color of your choice\u001b[39;00m\n\u001b[1;32m     14\u001b[0m end_fill()\n",
      "File \u001b[0;32m<string>:8\u001b[0m, in \u001b[0;36mforward\u001b[0;34m(distance)\u001b[0m\n",
      "File \u001b[0;32m/usr/lib/python3.11/turtle.py:1638\u001b[0m, in \u001b[0;36mTNavigator.forward\u001b[0;34m(self, distance)\u001b[0m\n\u001b[1;32m   1617\u001b[0m \u001b[38;5;28;01mdef\u001b[39;00m \u001b[38;5;21mforward\u001b[39m(\u001b[38;5;28mself\u001b[39m, distance):\n\u001b[1;32m   1618\u001b[0m \u001b[38;5;250m    \u001b[39m\u001b[38;5;124;03m\"\"\"Move the turtle forward by the specified distance.\u001b[39;00m\n\u001b[1;32m   1619\u001b[0m \n\u001b[1;32m   1620\u001b[0m \u001b[38;5;124;03m    Aliases: forward | fd\u001b[39;00m\n\u001b[0;32m   (...)\u001b[0m\n\u001b[1;32m   1636\u001b[0m \u001b[38;5;124;03m    (-50.00,0.00)\u001b[39;00m\n\u001b[1;32m   1637\u001b[0m \u001b[38;5;124;03m    \"\"\"\u001b[39;00m\n\u001b[0;32m-> 1638\u001b[0m     \u001b[38;5;28;43mself\u001b[39;49m\u001b[38;5;241;43m.\u001b[39;49m\u001b[43m_go\u001b[49m\u001b[43m(\u001b[49m\u001b[43mdistance\u001b[49m\u001b[43m)\u001b[49m\n",
      "File \u001b[0;32m/usr/lib/python3.11/turtle.py:1606\u001b[0m, in \u001b[0;36mTNavigator._go\u001b[0;34m(self, distance)\u001b[0m\n\u001b[1;32m   1604\u001b[0m \u001b[38;5;250m\u001b[39m\u001b[38;5;124;03m\"\"\"move turtle forward by specified distance\"\"\"\u001b[39;00m\n\u001b[1;32m   1605\u001b[0m ende \u001b[38;5;241m=\u001b[39m \u001b[38;5;28mself\u001b[39m\u001b[38;5;241m.\u001b[39m_position \u001b[38;5;241m+\u001b[39m \u001b[38;5;28mself\u001b[39m\u001b[38;5;241m.\u001b[39m_orient \u001b[38;5;241m*\u001b[39m distance\n\u001b[0;32m-> 1606\u001b[0m \u001b[38;5;28;43mself\u001b[39;49m\u001b[38;5;241;43m.\u001b[39;49m\u001b[43m_goto\u001b[49m\u001b[43m(\u001b[49m\u001b[43mende\u001b[49m\u001b[43m)\u001b[49m\n",
      "File \u001b[0;32m/usr/lib/python3.11/turtle.py:3196\u001b[0m, in \u001b[0;36mRawTurtle._goto\u001b[0;34m(self, end)\u001b[0m\n\u001b[1;32m   3192\u001b[0m     \u001b[38;5;28;01mif\u001b[39;00m \u001b[38;5;28mself\u001b[39m\u001b[38;5;241m.\u001b[39m_drawing:\n\u001b[1;32m   3193\u001b[0m         screen\u001b[38;5;241m.\u001b[39m_drawline(\u001b[38;5;28mself\u001b[39m\u001b[38;5;241m.\u001b[39mdrawingLineItem,\n\u001b[1;32m   3194\u001b[0m                          (start, \u001b[38;5;28mself\u001b[39m\u001b[38;5;241m.\u001b[39m_position),\n\u001b[1;32m   3195\u001b[0m                          \u001b[38;5;28mself\u001b[39m\u001b[38;5;241m.\u001b[39m_pencolor, \u001b[38;5;28mself\u001b[39m\u001b[38;5;241m.\u001b[39m_pensize, top)\n\u001b[0;32m-> 3196\u001b[0m     \u001b[38;5;28;43mself\u001b[39;49m\u001b[38;5;241;43m.\u001b[39;49m\u001b[43m_update\u001b[49m\u001b[43m(\u001b[49m\u001b[43m)\u001b[49m\n\u001b[1;32m   3197\u001b[0m \u001b[38;5;28;01mif\u001b[39;00m \u001b[38;5;28mself\u001b[39m\u001b[38;5;241m.\u001b[39m_drawing:\n\u001b[1;32m   3198\u001b[0m     screen\u001b[38;5;241m.\u001b[39m_drawline(\u001b[38;5;28mself\u001b[39m\u001b[38;5;241m.\u001b[39mdrawingLineItem, ((\u001b[38;5;241m0\u001b[39m, \u001b[38;5;241m0\u001b[39m), (\u001b[38;5;241m0\u001b[39m, \u001b[38;5;241m0\u001b[39m)),\n\u001b[1;32m   3199\u001b[0m                                    fill\u001b[38;5;241m=\u001b[39m\u001b[38;5;124m\"\u001b[39m\u001b[38;5;124m\"\u001b[39m, width\u001b[38;5;241m=\u001b[39m\u001b[38;5;28mself\u001b[39m\u001b[38;5;241m.\u001b[39m_pensize)\n",
      "File \u001b[0;32m/usr/lib/python3.11/turtle.py:2664\u001b[0m, in \u001b[0;36mRawTurtle._update\u001b[0;34m(self)\u001b[0m\n\u001b[1;32m   2662\u001b[0m     \u001b[38;5;28mself\u001b[39m\u001b[38;5;241m.\u001b[39m_drawturtle()\n\u001b[1;32m   2663\u001b[0m     screen\u001b[38;5;241m.\u001b[39m_update()                  \u001b[38;5;66;03m# TurtleScreenBase\u001b[39;00m\n\u001b[0;32m-> 2664\u001b[0m     \u001b[43mscreen\u001b[49m\u001b[38;5;241;43m.\u001b[39;49m\u001b[43m_delay\u001b[49m\u001b[43m(\u001b[49m\u001b[43mscreen\u001b[49m\u001b[38;5;241;43m.\u001b[39;49m\u001b[43m_delayvalue\u001b[49m\u001b[43m)\u001b[49m \u001b[38;5;66;03m# TurtleScreenBase\u001b[39;00m\n\u001b[1;32m   2665\u001b[0m \u001b[38;5;28;01melse\u001b[39;00m:\n\u001b[1;32m   2666\u001b[0m     \u001b[38;5;28mself\u001b[39m\u001b[38;5;241m.\u001b[39m_update_data()\n",
      "File \u001b[0;32m/usr/lib/python3.11/turtle.py:566\u001b[0m, in \u001b[0;36mTurtleScreenBase._delay\u001b[0;34m(self, delay)\u001b[0m\n\u001b[1;32m    564\u001b[0m \u001b[38;5;28;01mdef\u001b[39;00m \u001b[38;5;21m_delay\u001b[39m(\u001b[38;5;28mself\u001b[39m, delay):\n\u001b[1;32m    565\u001b[0m \u001b[38;5;250m    \u001b[39m\u001b[38;5;124;03m\"\"\"Delay subsequent canvas actions for delay ms.\"\"\"\u001b[39;00m\n\u001b[0;32m--> 566\u001b[0m     \u001b[38;5;28;43mself\u001b[39;49m\u001b[38;5;241;43m.\u001b[39;49m\u001b[43mcv\u001b[49m\u001b[38;5;241;43m.\u001b[39;49m\u001b[43mafter\u001b[49m\u001b[43m(\u001b[49m\u001b[43mdelay\u001b[49m\u001b[43m)\u001b[49m\n",
      "File \u001b[0;32m/usr/lib/python3.11/tkinter/__init__.py:856\u001b[0m, in \u001b[0;36mMisc.after\u001b[0;34m(self, ms, func, *args)\u001b[0m\n\u001b[1;32m    848\u001b[0m \u001b[38;5;250m\u001b[39m\u001b[38;5;124;03m\"\"\"Call function once after given time.\u001b[39;00m\n\u001b[1;32m    849\u001b[0m \n\u001b[1;32m    850\u001b[0m \u001b[38;5;124;03mMS specifies the time in milliseconds. FUNC gives the\u001b[39;00m\n\u001b[1;32m    851\u001b[0m \u001b[38;5;124;03mfunction which shall be called. Additional parameters\u001b[39;00m\n\u001b[1;32m    852\u001b[0m \u001b[38;5;124;03mare given as parameters to the function call.  Return\u001b[39;00m\n\u001b[1;32m    853\u001b[0m \u001b[38;5;124;03midentifier to cancel scheduling with after_cancel.\"\"\"\u001b[39;00m\n\u001b[1;32m    854\u001b[0m \u001b[38;5;28;01mif\u001b[39;00m func \u001b[38;5;129;01mis\u001b[39;00m \u001b[38;5;28;01mNone\u001b[39;00m:\n\u001b[1;32m    855\u001b[0m     \u001b[38;5;66;03m# I'd rather use time.sleep(ms*0.001)\u001b[39;00m\n\u001b[0;32m--> 856\u001b[0m     \u001b[38;5;28;43mself\u001b[39;49m\u001b[38;5;241;43m.\u001b[39;49m\u001b[43mtk\u001b[49m\u001b[38;5;241;43m.\u001b[39;49m\u001b[43mcall\u001b[49m\u001b[43m(\u001b[49m\u001b[38;5;124;43m'\u001b[39;49m\u001b[38;5;124;43mafter\u001b[39;49m\u001b[38;5;124;43m'\u001b[39;49m\u001b[43m,\u001b[49m\u001b[43m \u001b[49m\u001b[43mms\u001b[49m\u001b[43m)\u001b[49m\n\u001b[1;32m    857\u001b[0m     \u001b[38;5;28;01mreturn\u001b[39;00m \u001b[38;5;28;01mNone\u001b[39;00m\n\u001b[1;32m    858\u001b[0m \u001b[38;5;28;01melse\u001b[39;00m:\n",
      "\u001b[0;31mKeyboardInterrupt\u001b[0m: "
     ]
    }
   ],
   "source": [
    "#an infinite loop\n",
    "while True:\n",
    "    color('orange')\n",
    "    fillcolor('blue')\n",
    "    begin_fill()\n",
    "\n",
    "    forward(300)\n",
    "    left(120)\n",
    "    forward(300)\n",
    "    left(120)\n",
    "    forward(300)\n",
    "\n",
    "    #fill in your square with the color of your choice\n",
    "    end_fill()"
   ]
  },
  {
   "cell_type": "code",
   "execution_count": 45,
   "id": "cb9d82ea-4821-4942-a456-b9348a8c5a9d",
   "metadata": {},
   "outputs": [],
   "source": [
    "clearscreen()"
   ]
  },
  {
   "cell_type": "code",
   "execution_count": 88,
   "id": "d9345c45-a019-431b-8040-98175f14687a",
   "metadata": {},
   "outputs": [],
   "source": [
    "#let's focus on our triangle. We want to create exaclty three triangle because any more than than is redundant.\n",
    "#here we will introduce functions and for-loops"
   ]
  },
  {
   "cell_type": "code",
   "execution_count": 16,
   "id": "9515b56d-b74e-4745-8d85-e61732e92d85",
   "metadata": {},
   "outputs": [],
   "source": [
    "#here is a simple function\n",
    "def add_two_numbers(numberOne,numberTwo):\n",
    "    '''This is a docstring. This is treated the same way as a comment is, but is useful when other people want to run your code.\n",
    "    We use docstrings to tell the user what data types are meant to be passed into the function and what data type is returned.\n",
    "    In this case, this function expects two floats/integers and returns a float/integer.\n",
    "    '''\n",
    "    sum = numberOne + numberTwo\n",
    "    return sum"
   ]
  },
  {
   "cell_type": "code",
   "execution_count": 17,
   "id": "318a5b6b-2995-4021-8ccc-c69419318395",
   "metadata": {},
   "outputs": [
    {
     "data": {
      "text/plain": [
       "65"
      ]
     },
     "execution_count": 17,
     "metadata": {},
     "output_type": "execute_result"
    }
   ],
   "source": [
    "#here is how we call a function\n",
    "add_two_numbers(52,13)"
   ]
  },
  {
   "cell_type": "code",
   "execution_count": 18,
   "id": "79b6dd17-da6b-4272-a731-8840bddc673a",
   "metadata": {},
   "outputs": [
    {
     "name": "stdout",
     "output_type": "stream",
     "text": [
      "65\n"
     ]
    }
   ],
   "source": [
    "#we can also assign the returned value to a variable\n",
    "result = add_two_numbers(52,13)\n",
    "print(result)"
   ]
  },
  {
   "cell_type": "code",
   "execution_count": 19,
   "id": "59b77861-aa1c-493f-8562-5ed57a8cd3a2",
   "metadata": {},
   "outputs": [],
   "source": [
    "#In our case, we are going to create a function that makes a triangle, this way we don't have to keep rewriting that block of code\n",
    "def triangle(outline,fill):\n",
    "    '''\n",
    "    Draws a triangle. \n",
    "    Takes two strings: the color of the borders of the triangle (outline) and the color to fill it in with (fill).\n",
    "    Does not return anything.\n",
    "    '''\n",
    "    color(outline)\n",
    "    fillcolor(fill)\n",
    "    begin_fill()\n",
    "\n",
    "    forward(300)\n",
    "    left(120)\n",
    "    forward(300)\n",
    "    left(120)\n",
    "    forward(300)\n",
    "\n",
    "    end_fill()"
   ]
  },
  {
   "cell_type": "code",
   "execution_count": 46,
   "id": "c0d5b3f2-588c-4607-9c1b-8781ab71843a",
   "metadata": {},
   "outputs": [],
   "source": [
    "triangle('blue','red')"
   ]
  },
  {
   "cell_type": "code",
   "execution_count": 20,
   "id": "122ebd1e-efff-40f4-a98d-069e3a8b781b",
   "metadata": {},
   "outputs": [
    {
     "name": "stdout",
     "output_type": "stream",
     "text": [
      "0\n",
      "1\n",
      "2\n",
      "3\n",
      "4\n"
     ]
    }
   ],
   "source": [
    "#now that we have a function that creates triangles, we can more easily make a loop to create as many as we like.\n",
    "#this is a simple for loop\n",
    "for i in range(5):\n",
    "    print(i)"
   ]
  },
  {
   "cell_type": "code",
   "execution_count": 49,
   "id": "9927ced3-974b-487c-bf82-4994eddec00b",
   "metadata": {},
   "outputs": [],
   "source": [
    "clearscreen()"
   ]
  },
  {
   "cell_type": "code",
   "execution_count": 50,
   "id": "e3a803cc-d0ae-4054-89b5-4b1ff1db1488",
   "metadata": {},
   "outputs": [],
   "source": [
    "#Now I want you to use a for loop to make three triangles. \n",
    "for i in range(4):\n",
    "    triangle('blue','orange')"
   ]
  },
  {
   "cell_type": "code",
   "execution_count": 51,
   "id": "9a20d268-a38f-41b1-bd16-781e2689d1b5",
   "metadata": {},
   "outputs": [
    {
     "name": "stdout",
     "output_type": "stream",
     "text": [
      "1\n",
      "78\n",
      "3\n",
      "cat\n",
      "blue\n",
      "apple\n"
     ]
    }
   ],
   "source": [
    "#Challenge: create a list of colors for both the outline and fill \n",
    "#then use a for loop to make three triangles with different outline and fill colors\n",
    "#To complete this challenge, I should first introduce lists to you\n",
    "\n",
    "#Here is a list\n",
    "my_numbers_list = [1,4,8,78,54,3]\n",
    "\n",
    "#Here is a list of strings\n",
    "my_strings_list = ['cat','blue','apple']\n",
    "\n",
    "#How to access elements of lists\n",
    "print(my_numbers_list[0])\n",
    "print(my_numbers_list[3])\n",
    "print(my_numbers_list[-1])\n",
    "\n",
    "#How to print every element of a list\n",
    "for word in my_strings_list:\n",
    "    print(word)"
   ]
  },
  {
   "cell_type": "code",
   "execution_count": 99,
   "id": "2a258130-741b-4f58-b6a9-1f848fc189df",
   "metadata": {},
   "outputs": [],
   "source": [
    "#Optional take-home challenge\n",
    "#Create two lists of colors of length 3 (one pair of colors for each triangle)\n",
    "#loop through both lists at the same time to create a triangle for each pair of colors\n",
    "#using documentation and the internet is encouraged! \n",
    "#I have purposefully not given you all of the necessary information to complete this at this moment.\n",
    "#Using resources on the internet is an incredibly important skill when it comes to coding."
   ]
  },
  {
   "cell_type": "code",
   "execution_count": 56,
   "id": "3deca50f-7828-4b06-baab-4176ef4d5806",
   "metadata": {},
   "outputs": [],
   "source": [
    "clearscreen()"
   ]
  },
  {
   "cell_type": "code",
   "execution_count": 24,
   "id": "bc7a61c1-6167-40ee-9457-f1cecd554313",
   "metadata": {},
   "outputs": [],
   "source": [
    "outlines = ['blue','purple','green']\n",
    "fills = ['red','pink','orange']\n",
    "for (out,fill) in zip(outlines,fills):\n",
    "    triangle(out,fill)"
   ]
  },
  {
   "cell_type": "code",
   "execution_count": 55,
   "id": "b1a5320c-ec92-4eca-bfea-c6ec4d0199a6",
   "metadata": {},
   "outputs": [],
   "source": [
    "for fill in fills:\n",
    "    for out in outlines:\n",
    "        triangle(out,fill)"
   ]
  },
  {
   "cell_type": "code",
   "execution_count": null,
   "id": "5722d1a8-0d03-42b9-a114-4c4fc8b11aaa",
   "metadata": {},
   "outputs": [],
   "source": []
  }
 ],
 "metadata": {
  "kernelspec": {
   "display_name": "Python 3 (ipykernel)",
   "language": "python",
   "name": "python3"
  },
  "language_info": {
   "codemirror_mode": {
    "name": "ipython",
    "version": 3
   },
   "file_extension": ".py",
   "mimetype": "text/x-python",
   "name": "python",
   "nbconvert_exporter": "python",
   "pygments_lexer": "ipython3",
   "version": "3.11.2"
  }
 },
 "nbformat": 4,
 "nbformat_minor": 5
}
