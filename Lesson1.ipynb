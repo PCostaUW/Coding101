{
 "cells": [
  {
   "cell_type": "raw",
   "id": "065359e3-a740-4ef2-9d05-19799f7d658b",
   "metadata": {},
   "source": [
    "Lesson 1\n",
    "-\n",
    "-installing python and jupyter lab\n",
    "-Hello World! (strings)\n",
    "-comments #\n",
    "-integers, floats, and booleans, combining them with strings"
   ]
  },
  {
   "cell_type": "code",
   "execution_count": 7,
   "id": "335bc588-0608-4b0c-97f0-ec0bb3e1b1aa",
   "metadata": {},
   "outputs": [
    {
     "data": {
      "text/plain": [
       "'a b'"
      ]
     },
     "execution_count": 7,
     "metadata": {},
     "output_type": "execute_result"
    }
   ],
   "source": [
    "\"a \"+\"b\""
   ]
  },
  {
   "cell_type": "code",
   "execution_count": 1,
   "id": "dd172f41-b613-4d81-9d12-3e32764a9847",
   "metadata": {},
   "outputs": [
    {
     "name": "stdout",
     "output_type": "stream",
     "text": [
      "Hello World!\n"
     ]
    }
   ],
   "source": [
    "#Hello World!\n",
    "print('Hello World!') #this is a string"
   ]
  },
  {
   "cell_type": "code",
   "execution_count": 1,
   "id": "869ce824-b6c1-49c3-857e-458ce6482a5a",
   "metadata": {},
   "outputs": [
    {
     "name": "stdout",
     "output_type": "stream",
     "text": [
      "x = 2\n",
      "y = 3\n",
      "x + y = 5\n",
      "\n",
      "\n",
      "a = 1.2\n",
      "b = 5.6\n",
      "a + b = 6.8\n",
      "a = 1.2 : True\n",
      "a = b : False\n",
      "a > b : False\n",
      "a < b : True\n"
     ]
    }
   ],
   "source": [
    "#Data types: integers, strings, floats, booleans\n",
    "\n",
    "x = 2 #integer\n",
    "y = 3 #integer\n",
    "print('x = '+str(x)) #cast x to a string in order to add it to the end of a string\n",
    "print('y = '+str(y)) #same as above but with y\n",
    "print(f'x + y = {x+y}') #print the sum by using an f-string\n",
    "\n",
    "print('\\n') #make a new line\n",
    "\n",
    "a=1.2 #float\n",
    "b=5.6 #float\n",
    "print('a = '+str(a)) #can cast a float to a string just as we did for an integer\n",
    "print('b = '+str(b))\n",
    "print(f'a + b = {a+b}') #can use an f-string to add floats\n",
    "\n",
    "\n",
    "#booleans\n",
    "print('a = '+str(a)+' : ' +str(a==a))\n",
    "print('a = b : '+str(a==b))\n",
    "print('a > b : '+str(a>b))\n",
    "print('a < b : '+str(a<b))\n"
   ]
  },
  {
   "cell_type": "code",
   "execution_count": 2,
   "id": "4b0e6e29-71c1-46fc-9359-57e2fd84b56d",
   "metadata": {},
   "outputs": [
    {
     "ename": "TypeError",
     "evalue": "'a' is an invalid keyword argument for print()",
     "output_type": "error",
     "traceback": [
      "\u001b[0;31m---------------------------------------------------------------------------\u001b[0m",
      "\u001b[0;31mTypeError\u001b[0m                                 Traceback (most recent call last)",
      "Cell \u001b[0;32mIn [2], line 1\u001b[0m\n\u001b[0;32m----> 1\u001b[0m \u001b[38;5;28;43mprint\u001b[39;49m\u001b[43m(\u001b[49m\u001b[43ma\u001b[49m\u001b[38;5;241;43m=\u001b[39;49m\u001b[43mb\u001b[49m\u001b[43m)\u001b[49m\n",
      "\u001b[0;31mTypeError\u001b[0m: 'a' is an invalid keyword argument for print()"
     ]
    }
   ],
   "source": [
    "a=b"
   ]
  },
  {
   "cell_type": "code",
   "execution_count": null,
   "id": "5d6138e2-2210-48d6-81cc-47bf821ca1b3",
   "metadata": {},
   "outputs": [],
   "source": [
    "#strings\n",
    "name = \"Pat\"\n",
    "another_name = 'John'"
   ]
  },
  {
   "cell_type": "code",
   "execution_count": null,
   "id": "5722d1a8-0d03-42b9-a114-4c4fc8b11aaa",
   "metadata": {},
   "outputs": [],
   "source": [
    "#ints\n",
    "number = 2\n",
    "another_number = -6\n",
    "\n"
   ]
  },
  {
   "cell_type": "code",
   "execution_count": null,
   "id": "f0863fcd-0846-4f4c-8a55-3c8da1e3f13c",
   "metadata": {},
   "outputs": [],
   "source": [
    "#floats\n",
    "my_float = 2.4"
   ]
  },
  {
   "cell_type": "code",
   "execution_count": null,
   "id": "7bb637c4-26f3-4e67-9f25-148c57eb2911",
   "metadata": {},
   "outputs": [],
   "source": [
    "#bools\n",
    "fact = True\n",
    "wrong = False"
   ]
  },
  {
   "cell_type": "code",
   "execution_count": null,
   "id": "d25d9fb7-720f-4507-995d-b31af52333de",
   "metadata": {},
   "outputs": [],
   "source": [
    "#lists\n",
    "numbers = [1,5,8,4]\n",
    "words_nums = ['cactus', 80.4, 3, 'where']"
   ]
  },
  {
   "cell_type": "code",
   "execution_count": 13,
   "id": "2086258a-ac50-4255-95df-3bef270b06a0",
   "metadata": {},
   "outputs": [
    {
     "name": "stdout",
     "output_type": "stream",
     "text": [
      "<class 'float'>\n",
      "<class 'str'>\n",
      "The sum of 2 and 3.2 is 5.2\n"
     ]
    }
   ],
   "source": [
    "x = 2 \n",
    "y = 3.2 \n",
    "\n",
    "added = x+y\n",
    "\n",
    "subtracted = x-y\n",
    "multiplied = x*y\n",
    "divided = x/y\n",
    "\n",
    "\n",
    "print(type(added))\n",
    "\n",
    "added_to_string = str(added)\n",
    "print(type(added_to_string))\n",
    "\n",
    "print('The sum of ' + str(x) + ' and ' + str(y) + ' is ' + str(added))"
   ]
  },
  {
   "cell_type": "code",
   "execution_count": 9,
   "id": "e2fe24d4-0ffc-44e2-80c7-fb36e335f984",
   "metadata": {},
   "outputs": [
    {
     "name": "stdout",
     "output_type": "stream",
     "text": [
      "True\n"
     ]
    }
   ],
   "source": [
    "a = 3\n",
    "b = '3'\n",
    "print(a != b)"
   ]
  },
  {
   "cell_type": "code",
   "execution_count": 15,
   "id": "c09c9838-eea2-4130-8ae8-64374afbc059",
   "metadata": {},
   "outputs": [
    {
     "data": {
      "text/plain": [
       "3"
      ]
     },
     "execution_count": 15,
     "metadata": {},
     "output_type": "execute_result"
    }
   ],
   "source": [
    "1 + 2"
   ]
  },
  {
   "cell_type": "code",
   "execution_count": 16,
   "id": "c4625010-aefb-44b0-8fac-6a5454dc1568",
   "metadata": {},
   "outputs": [
    {
     "data": {
      "text/plain": [
       "'two'"
      ]
     },
     "execution_count": 16,
     "metadata": {},
     "output_type": "execute_result"
    }
   ],
   "source": [
    "'two'"
   ]
  },
  {
   "cell_type": "code",
   "execution_count": 18,
   "id": "9edf08a8-8f95-4220-9559-9e0851787c93",
   "metadata": {},
   "outputs": [
    {
     "data": {
      "text/plain": [
       "3"
      ]
     },
     "execution_count": 18,
     "metadata": {},
     "output_type": "execute_result"
    }
   ],
   "source": [
    "a=2\n",
    "b=3\n",
    "a=b\n",
    "a"
   ]
  },
  {
   "cell_type": "code",
   "execution_count": 12,
   "id": "67454006-0d51-4db2-8e51-b60466e8d645",
   "metadata": {},
   "outputs": [
    {
     "data": {
      "text/plain": [
       "False"
      ]
     },
     "execution_count": 12,
     "metadata": {},
     "output_type": "execute_result"
    }
   ],
   "source": [
    "False == 'False'"
   ]
  },
  {
   "cell_type": "code",
   "execution_count": 13,
   "id": "dead267d-84e5-41d0-8d5a-9a325f00af5a",
   "metadata": {},
   "outputs": [
    {
     "data": {
      "text/plain": [
       "bool"
      ]
     },
     "execution_count": 13,
     "metadata": {},
     "output_type": "execute_result"
    }
   ],
   "source": [
    "type(True)"
   ]
  },
  {
   "cell_type": "code",
   "execution_count": 16,
   "id": "88b374d8-337c-42f4-a87b-4eb340be96d1",
   "metadata": {},
   "outputs": [
    {
     "data": {
      "text/plain": [
       "str"
      ]
     },
     "execution_count": 16,
     "metadata": {},
     "output_type": "execute_result"
    }
   ],
   "source": [
    "type(str(False))"
   ]
  },
  {
   "cell_type": "code",
   "execution_count": null,
   "id": "54714daa-50e6-4342-94b8-c424eb0ff95b",
   "metadata": {},
   "outputs": [],
   "source": []
  }
 ],
 "metadata": {
  "kernelspec": {
   "display_name": "Python 3 (ipykernel)",
   "language": "python",
   "name": "python3"
  },
  "language_info": {
   "codemirror_mode": {
    "name": "ipython",
    "version": 3
   },
   "file_extension": ".py",
   "mimetype": "text/x-python",
   "name": "python",
   "nbconvert_exporter": "python",
   "pygments_lexer": "ipython3",
   "version": "3.11.2"
  }
 },
 "nbformat": 4,
 "nbformat_minor": 5
}
