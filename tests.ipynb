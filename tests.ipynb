{
 "cells": [
  {
   "cell_type": "code",
   "execution_count": 1,
   "id": "5c87b0fa-b48b-47f1-9775-0696af970fe6",
   "metadata": {},
   "outputs": [],
   "source": [
    "import turtle"
   ]
  },
  {
   "cell_type": "code",
   "execution_count": 7,
   "id": "bc56596c-d3e5-46fe-9ef7-716915fa65b4",
   "metadata": {},
   "outputs": [],
   "source": [
    "screen = turtle.Screen() #create a screen object\n",
    "screen.setup(800,800) #set dimensions of screen, pixels x pixels\n",
    "screen.setworldcoordinates(-500,-500,500,500) #define coordinate system (llx,lly,urx,ury)\n",
    "screen.title(\"Connect 4\") #set the title\n",
    "turtle.speed(0) #no animation takes place, this is the fastest speed\n",
    "turtle.hideturtle() #the turtle is made invisible\n",
    "screen.tracer(0,0) #\n"
   ]
  }
 ],
 "metadata": {
  "kernelspec": {
   "display_name": "Python 3 (ipykernel)",
   "language": "python",
   "name": "python3"
  },
  "language_info": {
   "codemirror_mode": {
    "name": "ipython",
    "version": 3
   },
   "file_extension": ".py",
   "mimetype": "text/x-python",
   "name": "python",
   "nbconvert_exporter": "python",
   "pygments_lexer": "ipython3",
   "version": "3.11.2"
  }
 },
 "nbformat": 4,
 "nbformat_minor": 5
}
