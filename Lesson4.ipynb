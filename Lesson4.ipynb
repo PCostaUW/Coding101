{
 "cells": [
  {
   "cell_type": "code",
   "execution_count": 5,
   "id": "0847b88b-574c-4049-8d51-5e7ca8d6204b",
   "metadata": {},
   "outputs": [
    {
     "ename": "SyntaxError",
     "evalue": "expected '(' (2561621230.py, line 2)",
     "output_type": "error",
     "traceback": [
      "\u001b[0;36m  Cell \u001b[0;32mIn [5], line 2\u001b[0;36m\u001b[0m\n\u001b[0;31m    def myFunction:\u001b[0m\n\u001b[0m                  ^\u001b[0m\n\u001b[0;31mSyntaxError\u001b[0m\u001b[0;31m:\u001b[0m expected '('\n"
     ]
    }
   ],
   "source": [
    "i = 10\n",
    "def myFunction():\n",
    "    global i\n",
    "    i+= 1\n",
    "    return i\n",
    "\n",
    "myFunction()\n",
    "print(i+5)"
   ]
  },
  {
   "cell_type": "code",
   "execution_count": 27,
   "id": "1d9ad4b5-8fa8-4983-8cc9-97e2b5d80a6a",
   "metadata": {},
   "outputs": [
    {
     "name": "stdout",
     "output_type": "stream",
     "text": [
      "namepat\n"
     ]
    }
   ],
   "source": [
    "my_function = lambda x,y: print(x+y)\n",
    "my_function('name','pat')"
   ]
  },
  {
   "cell_type": "code",
   "execution_count": null,
   "id": "9776d0d8-c10f-4215-ac16-767e7c7c12d9",
   "metadata": {},
   "outputs": [],
   "source": [
    "def my_function(x,y):\n",
    "    print(x)\n",
    "\n",
    "my_function('name')"
   ]
  },
  {
   "cell_type": "code",
   "execution_count": 19,
   "id": "3922ea8f-96f3-4675-8b14-3d7c009d4cf4",
   "metadata": {},
   "outputs": [],
   "source": [
    "my_number = 15\n",
    "\n",
    "def my_function(number, string):\n",
    "    if number != string:\n",
    "        #print(string)\n",
    "        print(number+string)\n",
    "my_function(str(my_number),str(my_number))    "
   ]
  },
  {
   "cell_type": "code",
   "execution_count": null,
   "id": "219ce3d2-aa25-4d83-b2e1-88fc1483a8ec",
   "metadata": {},
   "outputs": [],
   "source": [
    "my_variable = 'my string'\n",
    "my_list = ['first','my','string', ' ']\n",
    "while my_variable == (my_list[1]+my_list[3]+my_list[2]):\n",
    "    print('Is this working?')\n",
    "    "
   ]
  },
  {
   "cell_type": "code",
   "execution_count": 21,
   "id": "bbe27e63-a967-4585-8ece-81c3db56b2d2",
   "metadata": {},
   "outputs": [
    {
     "name": "stdout",
     "output_type": "stream",
     "text": [
      "fourth\n"
     ]
    }
   ],
   "source": [
    "my_number = 4\n",
    "your_number = 6\n",
    "\n",
    "my_list = ['first','second','fourth','third']\n",
    "for i,string in enumerate(my_list):\n",
    "    if i == your_number%my_number:\n",
    "        print(string)\n",
    "    #print(string)"
   ]
  },
  {
   "cell_type": "code",
   "execution_count": 22,
   "id": "67ad8685-8fb5-4e0b-9ced-82f9e83821bd",
   "metadata": {},
   "outputs": [
    {
     "name": "stdout",
     "output_type": "stream",
     "text": [
      "first first\n",
      "second second\n",
      "fourth fourth\n",
      "third third\n"
     ]
    }
   ],
   "source": [
    "my_list = ['first','second','fourth','third']\n",
    "for i,string in enumerate(my_list):\n",
    "    print(string,my_list[i])\n",
    "    \n",
    "    "
   ]
  },
  {
   "cell_type": "code",
   "execution_count": 26,
   "id": "664deace-b007-4399-9fe7-08a5090ab3ff",
   "metadata": {},
   "outputs": [
    {
     "name": "stdout",
     "output_type": "stream",
     "text": [
      "key1\n",
      "key2\n",
      "turtle\n",
      "apple\n"
     ]
    }
   ],
   "source": [
    "my_dictionary = {\n",
    "    'key1':5,\n",
    "    'key2':10,\n",
    "    'turtle':True,\n",
    "    'apple':[1,5,7,'cat']\n",
    "}\n",
    "\n",
    "for item in my_dictionary:\n",
    "    print(item)"
   ]
  },
  {
   "cell_type": "code",
   "execution_count": null,
   "id": "d1c4f1e2-2c3e-451b-89ad-fb8e0b4f1505",
   "metadata": {},
   "outputs": [],
   "source": []
  }
 ],
 "metadata": {
  "kernelspec": {
   "display_name": "Python 3 (ipykernel)",
   "language": "python",
   "name": "python3"
  },
  "language_info": {
   "codemirror_mode": {
    "name": "ipython",
    "version": 3
   },
   "file_extension": ".py",
   "mimetype": "text/x-python",
   "name": "python",
   "nbconvert_exporter": "python",
   "pygments_lexer": "ipython3",
   "version": "3.11.2"
  }
 },
 "nbformat": 4,
 "nbformat_minor": 5
}
