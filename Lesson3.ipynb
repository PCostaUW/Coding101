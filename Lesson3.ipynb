{
 "cells": [
  {
   "cell_type": "markdown",
   "id": "ffd66626-67a8-4008-99ff-19602bbe9819",
   "metadata": {},
   "source": [
    "    -kahoot/revision of lesson 2\n",
    "    -what actually IS the turtle? (object-oriented programming definition) --leaving this out for now, may come to it later\n",
    "    -if statements\n",
    "    -using if statements with turtle (related to determining when someone has won connect 4)\n",
    "    -more turtle methods (circle, up, down, goto)\n",
    "    -nested for loops (draw the circles inside the connect 4 board)\n",
    "    -updating values in for loops"
   ]
  },
  {
   "cell_type": "markdown",
   "id": "f13ce938-79ba-48c6-ba48-4a0223c88e6d",
   "metadata": {},
   "source": [
    "#I don't expect anyone to confidendly get the last question of the kahoot right\n",
    "#this is where I will BRIEFLY introduce object oriented programming\n",
    "#a turtle is an object. The actions (functions) a turtle can do are called methods\n",
    "#those methods are unique to turtle objects. \n",
    "#For example, a screen object is not able to move forward, therefore the forward() method cannot be used by a screen object"
   ]
  },
  {
   "cell_type": "code",
   "execution_count": null,
   "id": "0027c9ff-8438-4496-8f6d-4dda37e7a439",
   "metadata": {},
   "outputs": [],
   "source": [
    "#if statements\n"
   ]
  }
 ],
 "metadata": {
  "kernelspec": {
   "display_name": "Python 3 (ipykernel)",
   "language": "python",
   "name": "python3"
  },
  "language_info": {
   "codemirror_mode": {
    "name": "ipython",
    "version": 3
   },
   "file_extension": ".py",
   "mimetype": "text/x-python",
   "name": "python",
   "nbconvert_exporter": "python",
   "pygments_lexer": "ipython3",
   "version": "3.11.2"
  }
 },
 "nbformat": 4,
 "nbformat_minor": 5
}
