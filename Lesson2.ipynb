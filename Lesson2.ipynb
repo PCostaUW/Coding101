{
 "cells": [
  {
   "cell_type": "markdown",
   "id": "397ec254-3e16-4a1e-b050-1e858479a8ed",
   "metadata": {},
   "source": [
    "Lesson 2\n",
    "-\n",
    "    -kahoot and revision of lesson 1\n",
    "    -intro to turtle. What is a library? Why are we using turtle?\n",
    "    -basic turtle movement\n",
    "    -while loops\n",
    "    -functions\n",
    "    -for loops"
   ]
  },
  {
   "cell_type": "raw",
   "id": "a385f432-3872-4da3-ac4d-cdcb5806f943",
   "metadata": {},
   "source": [
    "#Kahoot questions\n",
    "#1\n",
    "What programming language are we using?\n",
    "Answer: Python\n",
    "\n",
    "\n",
    "#2\n",
    "What is the data type of this value: 42\n",
    "Answer: int\n",
    "\n",
    "\n",
    "#3\n",
    "Which of these is a valid Python comment:\n",
    "Answer: # This is a comment\n",
    "\n",
    "\n",
    "#4\n",
    "What data type is this value: \"True\"\n",
    "Answer: String\n",
    "(this is a trick question, True is a boolean, but it's in quotes here so it's a string)\n",
    "\n",
    "\n",
    "#5\n",
    "Which of the following is a boolean value?\n",
    "Answer: True\n",
    "\n",
    "\n",
    "#6\n",
    "What data type is the following: 42.0/7\n",
    "float\n",
    "\n",
    "#7 \n",
    "Choose the correct data type: 'Is ' + str(42.2) + ' a number?'\n",
    "str (string)\n",
    "\n",
    "#8\n",
    "If a=7 and b=2.5, which of the following returns False?\n",
    "a==b\n",
    "\n"
   ]
  },
  {
   "cell_type": "markdown",
   "id": "fe6183a1-1387-4f44-b538-c4f6575e7e43",
   "metadata": {},
   "source": [
    "Go over what they got wrong in the kahoot."
   ]
  },
  {
   "cell_type": "code",
   "execution_count": 7,
   "id": "4f7652db-a4f1-48f6-8461-d662feabf475",
   "metadata": {},
   "outputs": [],
   "source": [
    "#Introducing turtle\n",
    "#Why are we having you use turtle? \n",
    "# -visual feedback\n",
    "# -room for creativity and experimentation\n",
    "# -can progress toward a tangible final project/game that demonstrates your understanding of the basics of programming\n",
    "\n",
    "#Step 1: import turtle\n",
    "from turtle import * #installs everything from the turtle package. Fine for now, but we will soonbe more picky about what we import\n",
    "#potential error: 'No module name '_tkinter''\n",
    "#solution: pip install tk\n",
    "\n",
    "#Step 2: basic turtle commands (run each of these in their own cell so we can look at how each affects the turtle's movement)"
   ]
  },
  {
   "cell_type": "code",
   "execution_count": 4,
   "id": "583d9050-02a4-4bf0-9990-665addfe1d10",
   "metadata": {},
   "outputs": [],
   "source": [
    "from turtle import *"
   ]
  },
  {
   "cell_type": "code",
   "execution_count": 2,
   "id": "c0174a20-f2c3-4f05-b7d6-00440f71809e",
   "metadata": {},
   "outputs": [],
   "source": [
    "import turtle\n"
   ]
  },
  {
   "cell_type": "code",
   "execution_count": 3,
   "id": "1c5a261e-355b-42a8-abf3-ef6f6ba4d985",
   "metadata": {},
   "outputs": [],
   "source": [
    "import turtle as t"
   ]
  },
  {
   "cell_type": "code",
   "execution_count": 10,
   "id": "cfcdbbc8-533e-420e-9d47-072f4dcd5a70",
   "metadata": {},
   "outputs": [],
   "source": [
    "forward(100) #move the turtle forward 100 units"
   ]
  },
  {
   "cell_type": "code",
   "execution_count": 11,
   "id": "a162cf25-3301-44b6-a905-335d3fb1ff6d",
   "metadata": {},
   "outputs": [],
   "source": [
    "clearscreen()"
   ]
  },
  {
   "cell_type": "code",
   "execution_count": 12,
   "id": "e5e97aae-2930-443c-98fe-0e348e75ccb1",
   "metadata": {},
   "outputs": [],
   "source": [
    "right(45) #rotate the turtle 45 degrees clockwise"
   ]
  },
  {
   "cell_type": "code",
   "execution_count": 13,
   "id": "b7abc792-a896-4a10-a0df-72b5fa20c92f",
   "metadata": {},
   "outputs": [],
   "source": [
    "forward(20) #move the turtle 20 units in the newly defined forward direction"
   ]
  },
  {
   "cell_type": "code",
   "execution_count": 14,
   "id": "7a51bc5f-2220-469c-8994-91e68b53889b",
   "metadata": {},
   "outputs": [],
   "source": [
    "left(90) #rotate the turtle 90 degrees counter-clockwise"
   ]
  },
  {
   "cell_type": "code",
   "execution_count": 15,
   "id": "bb197ad9-8328-4378-bcbc-0fbda015ce47",
   "metadata": {},
   "outputs": [],
   "source": [
    "backward(50) #move the turtle backward 50 units"
   ]
  },
  {
   "cell_type": "code",
   "execution_count": 16,
   "id": "ee408c8d-3ed0-4474-8c32-58a3dacd015a",
   "metadata": {},
   "outputs": [],
   "source": [
    "clearscreen()"
   ]
  },
  {
   "cell_type": "code",
   "execution_count": 17,
   "id": "05c03a8a-00a1-414a-a243-fafbff1fbff6",
   "metadata": {},
   "outputs": [],
   "source": [
    "#Now I want you to make a square and a triangle.\n",
    "#Also, a very important skill to develop is your ability to read documentation\n",
    "#change the color of your lines and fill in your shapes with a color of your choice"
   ]
  },
  {
   "cell_type": "code",
   "execution_count": 5,
   "id": "994c8128-7588-46e7-bcdb-234797fa9a87",
   "metadata": {},
   "outputs": [],
   "source": [
    "#square\n",
    "#define colors and initialize coloring\n",
    "color('red')\n",
    "fillcolor('orange')\n",
    "begin_fill()\n",
    "\n",
    "forward(100)\n",
    "left(90)\n",
    "forward(100)\n",
    "left(90)\n",
    "forward(100)\n",
    "left(90)\n",
    "forward(100)\n",
    "\n",
    "#fill in your square with the color of your choice\n",
    "end_fill()"
   ]
  },
  {
   "cell_type": "code",
   "execution_count": 19,
   "id": "35be28d6-cb5a-4083-ab01-7ab49bccd331",
   "metadata": {},
   "outputs": [],
   "source": [
    "clearscreen()"
   ]
  },
  {
   "cell_type": "code",
   "execution_count": 20,
   "id": "678053c6-688c-4ac7-b49d-75a241ad45d4",
   "metadata": {},
   "outputs": [],
   "source": [
    "#triangle\n",
    "#define colors and initialize coloring\n",
    "color('orange')\n",
    "fillcolor('blue')\n",
    "begin_fill()\n",
    "\n",
    "forward(300)\n",
    "left(120)\n",
    "forward(300)\n",
    "left(120)\n",
    "forward(300)\n",
    "\n",
    "#fill in your square with the color of your choice\n",
    "end_fill()"
   ]
  },
  {
   "cell_type": "code",
   "execution_count": 21,
   "id": "2cb9f8b8-1958-44d8-aa4e-7131b8804dd9",
   "metadata": {},
   "outputs": [],
   "source": [
    "#Now, without clearing your screen, run the above cell a few more times and notice what is happening\n",
    "#the turtle remains in its final position and orientation and then continues to draw once the cell is run again\n",
    "#we can see that it will repeat this pattern forever if we keep running that cell\n",
    "#Instead of manually re-running the cell to achieve this pattern, we can create what is called a \"loop\""
   ]
  },
  {
   "cell_type": "code",
   "execution_count": 6,
   "id": "5a2a39dc-8957-4f9e-9762-a87d96ead346",
   "metadata": {},
   "outputs": [
    {
     "name": "stdout",
     "output_type": "stream",
     "text": [
      "I have printed this statement 1 time(s)\n",
      "I have printed this statement 2 time(s)\n",
      "I have printed this statement 3 time(s)\n",
      "I have printed this statement 4 time(s)\n"
     ]
    }
   ],
   "source": [
    "i = 1\n",
    "while i < 5:\n",
    "    print('I have printed this statement ' + str(i) + ' time(s)')\n",
    "    i += 1"
   ]
  },
  {
   "cell_type": "code",
   "execution_count": 9,
   "id": "6031a7f9-9dd5-4e83-b64c-a2b50bf84086",
   "metadata": {},
   "outputs": [
    {
     "ename": "Terminator",
     "evalue": "",
     "output_type": "error",
     "traceback": [
      "\u001b[0;31m---------------------------------------------------------------------------\u001b[0m",
      "\u001b[0;31mTclError\u001b[0m                                  Traceback (most recent call last)",
      "File \u001b[0;32m<string>:8\u001b[0m, in \u001b[0;36mforward\u001b[0;34m(distance)\u001b[0m\n",
      "File \u001b[0;32m/usr/lib/python3.11/turtle.py:1638\u001b[0m, in \u001b[0;36mTNavigator.forward\u001b[0;34m(self, distance)\u001b[0m\n\u001b[1;32m   1618\u001b[0m \u001b[38;5;250m\u001b[39m\u001b[38;5;124;03m\"\"\"Move the turtle forward by the specified distance.\u001b[39;00m\n\u001b[1;32m   1619\u001b[0m \n\u001b[1;32m   1620\u001b[0m \u001b[38;5;124;03mAliases: forward | fd\u001b[39;00m\n\u001b[0;32m   (...)\u001b[0m\n\u001b[1;32m   1636\u001b[0m \u001b[38;5;124;03m(-50.00,0.00)\u001b[39;00m\n\u001b[1;32m   1637\u001b[0m \u001b[38;5;124;03m\"\"\"\u001b[39;00m\n\u001b[0;32m-> 1638\u001b[0m \u001b[38;5;28;43mself\u001b[39;49m\u001b[38;5;241;43m.\u001b[39;49m\u001b[43m_go\u001b[49m\u001b[43m(\u001b[49m\u001b[43mdistance\u001b[49m\u001b[43m)\u001b[49m\n",
      "File \u001b[0;32m/usr/lib/python3.11/turtle.py:1606\u001b[0m, in \u001b[0;36mTNavigator._go\u001b[0;34m(self, distance)\u001b[0m\n\u001b[1;32m   1605\u001b[0m ende \u001b[38;5;241m=\u001b[39m \u001b[38;5;28mself\u001b[39m\u001b[38;5;241m.\u001b[39m_position \u001b[38;5;241m+\u001b[39m \u001b[38;5;28mself\u001b[39m\u001b[38;5;241m.\u001b[39m_orient \u001b[38;5;241m*\u001b[39m distance\n\u001b[0;32m-> 1606\u001b[0m \u001b[38;5;28;43mself\u001b[39;49m\u001b[38;5;241;43m.\u001b[39;49m\u001b[43m_goto\u001b[49m\u001b[43m(\u001b[49m\u001b[43mende\u001b[49m\u001b[43m)\u001b[49m\n",
      "File \u001b[0;32m/usr/lib/python3.11/turtle.py:3193\u001b[0m, in \u001b[0;36mRawTurtle._goto\u001b[0;34m(self, end)\u001b[0m\n\u001b[1;32m   3192\u001b[0m \u001b[38;5;28;01mif\u001b[39;00m \u001b[38;5;28mself\u001b[39m\u001b[38;5;241m.\u001b[39m_drawing:\n\u001b[0;32m-> 3193\u001b[0m     \u001b[43mscreen\u001b[49m\u001b[38;5;241;43m.\u001b[39;49m\u001b[43m_drawline\u001b[49m\u001b[43m(\u001b[49m\u001b[38;5;28;43mself\u001b[39;49m\u001b[38;5;241;43m.\u001b[39;49m\u001b[43mdrawingLineItem\u001b[49m\u001b[43m,\u001b[49m\n\u001b[1;32m   3194\u001b[0m \u001b[43m                     \u001b[49m\u001b[43m(\u001b[49m\u001b[43mstart\u001b[49m\u001b[43m,\u001b[49m\u001b[43m \u001b[49m\u001b[38;5;28;43mself\u001b[39;49m\u001b[38;5;241;43m.\u001b[39;49m\u001b[43m_position\u001b[49m\u001b[43m)\u001b[49m\u001b[43m,\u001b[49m\n\u001b[1;32m   3195\u001b[0m \u001b[43m                     \u001b[49m\u001b[38;5;28;43mself\u001b[39;49m\u001b[38;5;241;43m.\u001b[39;49m\u001b[43m_pencolor\u001b[49m\u001b[43m,\u001b[49m\u001b[43m \u001b[49m\u001b[38;5;28;43mself\u001b[39;49m\u001b[38;5;241;43m.\u001b[39;49m\u001b[43m_pensize\u001b[49m\u001b[43m,\u001b[49m\u001b[43m \u001b[49m\u001b[43mtop\u001b[49m\u001b[43m)\u001b[49m\n\u001b[1;32m   3196\u001b[0m \u001b[38;5;28mself\u001b[39m\u001b[38;5;241m.\u001b[39m_update()\n",
      "File \u001b[0;32m/usr/lib/python3.11/turtle.py:545\u001b[0m, in \u001b[0;36mTurtleScreenBase._drawline\u001b[0;34m(self, lineitem, coordlist, fill, width, top)\u001b[0m\n\u001b[1;32m    544\u001b[0m         cl\u001b[38;5;241m.\u001b[39mappend(\u001b[38;5;241m-\u001b[39my \u001b[38;5;241m*\u001b[39m \u001b[38;5;28mself\u001b[39m\u001b[38;5;241m.\u001b[39myscale)\n\u001b[0;32m--> 545\u001b[0m     \u001b[38;5;28;43mself\u001b[39;49m\u001b[38;5;241;43m.\u001b[39;49m\u001b[43mcv\u001b[49m\u001b[38;5;241;43m.\u001b[39;49m\u001b[43mcoords\u001b[49m\u001b[43m(\u001b[49m\u001b[43mlineitem\u001b[49m\u001b[43m,\u001b[49m\u001b[43m \u001b[49m\u001b[38;5;241;43m*\u001b[39;49m\u001b[43mcl\u001b[49m\u001b[43m)\u001b[49m\n\u001b[1;32m    546\u001b[0m \u001b[38;5;28;01mif\u001b[39;00m fill \u001b[38;5;129;01mis\u001b[39;00m \u001b[38;5;129;01mnot\u001b[39;00m \u001b[38;5;28;01mNone\u001b[39;00m:\n",
      "File \u001b[0;32m<string>:1\u001b[0m, in \u001b[0;36mcoords\u001b[0;34m(self, *args, **kw)\u001b[0m\n",
      "File \u001b[0;32m/usr/lib/python3.11/tkinter/__init__.py:2822\u001b[0m, in \u001b[0;36mCanvas.coords\u001b[0;34m(self, *args)\u001b[0m\n\u001b[1;32m   2819\u001b[0m \u001b[38;5;66;03m# XXX Should use _flatten on args\u001b[39;00m\n\u001b[1;32m   2820\u001b[0m \u001b[38;5;28;01mreturn\u001b[39;00m [\u001b[38;5;28mself\u001b[39m\u001b[38;5;241m.\u001b[39mtk\u001b[38;5;241m.\u001b[39mgetdouble(x) \u001b[38;5;28;01mfor\u001b[39;00m x \u001b[38;5;129;01min\u001b[39;00m\n\u001b[1;32m   2821\u001b[0m                    \u001b[38;5;28mself\u001b[39m\u001b[38;5;241m.\u001b[39mtk\u001b[38;5;241m.\u001b[39msplitlist(\n\u001b[0;32m-> 2822\u001b[0m            \u001b[38;5;28;43mself\u001b[39;49m\u001b[38;5;241;43m.\u001b[39;49m\u001b[43mtk\u001b[49m\u001b[38;5;241;43m.\u001b[39;49m\u001b[43mcall\u001b[49m\u001b[43m(\u001b[49m\u001b[43m(\u001b[49m\u001b[38;5;28;43mself\u001b[39;49m\u001b[38;5;241;43m.\u001b[39;49m\u001b[43m_w\u001b[49m\u001b[43m,\u001b[49m\u001b[43m \u001b[49m\u001b[38;5;124;43m'\u001b[39;49m\u001b[38;5;124;43mcoords\u001b[39;49m\u001b[38;5;124;43m'\u001b[39;49m\u001b[43m)\u001b[49m\u001b[43m \u001b[49m\u001b[38;5;241;43m+\u001b[39;49m\u001b[43m \u001b[49m\u001b[43margs\u001b[49m\u001b[43m)\u001b[49m)]\n",
      "\u001b[0;31mTclError\u001b[0m: invalid command name \".!canvas\"",
      "\nDuring handling of the above exception, another exception occurred:\n",
      "\u001b[0;31mTerminator\u001b[0m                                Traceback (most recent call last)",
      "Cell \u001b[0;32mIn [9], line 7\u001b[0m\n\u001b[1;32m      4\u001b[0m fillcolor(\u001b[38;5;124m'\u001b[39m\u001b[38;5;124mblue\u001b[39m\u001b[38;5;124m'\u001b[39m)\n\u001b[1;32m      5\u001b[0m begin_fill()\n\u001b[0;32m----> 7\u001b[0m \u001b[43mforward\u001b[49m\u001b[43m(\u001b[49m\u001b[38;5;241;43m300\u001b[39;49m\u001b[43m)\u001b[49m\n\u001b[1;32m      8\u001b[0m left(\u001b[38;5;241m120\u001b[39m)\n\u001b[1;32m      9\u001b[0m forward(\u001b[38;5;241m300\u001b[39m)\n",
      "File \u001b[0;32m<string>:12\u001b[0m, in \u001b[0;36mforward\u001b[0;34m(distance)\u001b[0m\n",
      "\u001b[0;31mTerminator\u001b[0m: "
     ]
    }
   ],
   "source": [
    "#an infinite loop\n",
    "while True:\n",
    "    color('orange')\n",
    "    fillcolor('blue')\n",
    "    begin_fill()\n",
    "\n",
    "    forward(300)\n",
    "    left(120)\n",
    "    forward(300)\n",
    "    left(120)\n",
    "    forward(300)\n",
    "\n",
    "    end_fill()"
   ]
  },
  {
   "cell_type": "code",
   "execution_count": 1,
   "id": "a45abf14-fb9c-48fa-9238-b1b81f317f4a",
   "metadata": {},
   "outputs": [],
   "source": [
    "while False:\n",
    "    print('yes')"
   ]
  },
  {
   "cell_type": "code",
   "execution_count": 4,
   "id": "1e7bf067-15fa-4346-99dc-d3d738eda3f3",
   "metadata": {},
   "outputs": [
    {
     "data": {
      "text/plain": [
       "range(0, 5)"
      ]
     },
     "execution_count": 4,
     "metadata": {},
     "output_type": "execute_result"
    }
   ],
   "source": [
    "range(5)"
   ]
  },
  {
   "cell_type": "code",
   "execution_count": 23,
   "id": "4f9a5d50-6f22-4dfd-899d-a577f865e29e",
   "metadata": {},
   "outputs": [],
   "source": [
    "#let's focus on our triangle. We want to create exaclty three triangle because any more than that is redundant.\n",
    "#here we will introduce functions and for-loops"
   ]
  },
  {
   "cell_type": "code",
   "execution_count": 24,
   "id": "c4aee719-e144-41e8-9b1a-e4a72958b1ba",
   "metadata": {},
   "outputs": [],
   "source": [
    "#here is a simple function\n",
    "def add_two_numbers(numberOne,numberTwo):\n",
    "    '''This is a docstring. This is treated the same way as a comment is, but is useful when other people want to run your code.\n",
    "    We use docstrings to tell the user what data types are meant to be passed into the function and what data type is returned.\n",
    "    In this case, this function expects two floats/integers and returns a float/integer.\n",
    "    '''\n",
    "    sum = numberOne + numberTwo\n",
    "    return sum"
   ]
  },
  {
   "cell_type": "code",
   "execution_count": 25,
   "id": "b5332748-6d2f-4edb-bdda-c83cf0b59e5f",
   "metadata": {},
   "outputs": [
    {
     "data": {
      "text/plain": [
       "65"
      ]
     },
     "execution_count": 25,
     "metadata": {},
     "output_type": "execute_result"
    }
   ],
   "source": [
    "#here is how we call a function\n",
    "add_two_numbers(52,13)"
   ]
  },
  {
   "cell_type": "code",
   "execution_count": 26,
   "id": "ba71fcb8-1ff4-4c82-a3c1-195f6509f431",
   "metadata": {},
   "outputs": [
    {
     "name": "stdout",
     "output_type": "stream",
     "text": [
      "65\n"
     ]
    }
   ],
   "source": [
    "#we can also assign the returned value to a variable\n",
    "result = add_two_numbers(52,13)\n",
    "print(result)"
   ]
  },
  {
   "cell_type": "code",
   "execution_count": 44,
   "id": "1a0b7d3e-b369-4c1c-a3c3-3507152ff59c",
   "metadata": {},
   "outputs": [],
   "source": [
    "#In our case, we are going to create a function that makes a triangle, this way we don't have to keep rewriting that block of code\n",
    "#A function DOES NOT need to return anything\n",
    "def triangle(outline,fill):\n",
    "    '''\n",
    "    Draws a triangle. \n",
    "    Takes two strings: the color of the borders of the triangle (outline) and the color to fill it in with (fill).\n",
    "    Does not return anything.\n",
    "    '''\n",
    "    color(outline)\n",
    "    fillcolor(fill)\n",
    "    begin_fill()\n",
    "\n",
    "    forward(300)\n",
    "    left(120)\n",
    "    forward(300)\n",
    "    left(120)\n",
    "    forward(300)\n",
    "\n",
    "    end_fill()"
   ]
  },
  {
   "cell_type": "code",
   "execution_count": 28,
   "id": "1c64ac4a-741e-422e-8dbc-6e4d19e9869f",
   "metadata": {},
   "outputs": [],
   "source": [
    "triangle('blue','red')"
   ]
  },
  {
   "cell_type": "code",
   "execution_count": 29,
   "id": "33559390-77ae-4551-a3af-c3a05ffc6d70",
   "metadata": {},
   "outputs": [
    {
     "name": "stdout",
     "output_type": "stream",
     "text": [
      "0\n",
      "1\n",
      "2\n",
      "3\n",
      "4\n"
     ]
    }
   ],
   "source": [
    "#now that we have a function that creates triangles, we can more easily make a loop to create as many as we like.\n",
    "#this is a simple for loop\n",
    "for i in range(5):\n",
    "    print(i)"
   ]
  },
  {
   "cell_type": "code",
   "execution_count": 36,
   "id": "207e58af-ec90-42c9-be53-aa001babad26",
   "metadata": {},
   "outputs": [],
   "source": [
    "clearscreen()"
   ]
  },
  {
   "cell_type": "code",
   "execution_count": 37,
   "id": "284274e2-005f-4dd0-8f18-905f72abcca0",
   "metadata": {},
   "outputs": [],
   "source": [
    "#Now I want you to use a for loop to make three triangles. \n",
    "for i in range(3):\n",
    "    triangle('blue','orange')"
   ]
  },
  {
   "cell_type": "code",
   "execution_count": 38,
   "id": "79f25958-26fd-418c-b4fb-1da2482cdf01",
   "metadata": {},
   "outputs": [
    {
     "name": "stdout",
     "output_type": "stream",
     "text": [
      "1\n",
      "78\n",
      "3\n",
      "cat\n",
      "blue\n",
      "apple\n"
     ]
    }
   ],
   "source": [
    "#Challenge: create a list of colors for both the outline and fill \n",
    "#then use a for loop to make three triangles with different outline and fill colors\n",
    "#To complete this challenge, I will first introduce lists to you\n",
    "\n",
    "#Here is a list\n",
    "my_numbers_list = [1,4,8,78,54,3]\n",
    "\n",
    "#Here is a list of strings\n",
    "my_strings_list = ['cat','blue','apple']\n",
    "\n",
    "#How to access elements of lists\n",
    "print(my_numbers_list[0])\n",
    "print(my_numbers_list[3])\n",
    "print(my_numbers_list[-1])\n",
    "\n",
    "#How to print every element of a list\n",
    "for word in my_strings_list:\n",
    "    print(word)"
   ]
  },
  {
   "cell_type": "code",
   "execution_count": 39,
   "id": "caa65e0f-d9cf-40ce-b61d-804086f4874a",
   "metadata": {},
   "outputs": [],
   "source": [
    "#Optional take-home challenge\n",
    "#Create two lists of colors of length 3 (one pair of colors for each triangle)\n",
    "#loop through both lists at the same time to create a triangle for each pair of colors\n",
    "#using documentation and the internet is encouraged! \n",
    "#I have purposefully not given you all of the necessary information to complete this at this moment.\n",
    "#Using resources on the internet is an incredibly important skill when it comes to coding."
   ]
  },
  {
   "cell_type": "code",
   "execution_count": 40,
   "id": "d3a2e129-701b-420e-9dfe-e741e31b57e4",
   "metadata": {},
   "outputs": [],
   "source": [
    "clearscreen()\n"
   ]
  },
  {
   "cell_type": "code",
   "execution_count": 41,
   "id": "dc11cac2-71c9-431f-8096-5ddf54af0945",
   "metadata": {},
   "outputs": [],
   "source": [
    "outlines = ['blue','purple','green']\n",
    "fills = ['red','pink','orange']\n",
    "for (out,fill) in zip(outlines,fills):\n",
    "    triangle(out,fill)"
   ]
  },
  {
   "cell_type": "code",
   "execution_count": 42,
   "id": "60bffcc3-fdd9-4330-906b-17c04a563c46",
   "metadata": {},
   "outputs": [],
   "source": [
    "for fill in fills:\n",
    "    for out in outlines:\n",
    "        triangle(out,fill)"
   ]
  },
  {
   "cell_type": "code",
   "execution_count": null,
   "id": "75ace302-2912-45f8-b583-f6bd840a525b",
   "metadata": {},
   "outputs": [],
   "source": []
  }
 ],
 "metadata": {
  "kernelspec": {
   "display_name": "Python 3 (ipykernel)",
   "language": "python",
   "name": "python3"
  },
  "language_info": {
   "codemirror_mode": {
    "name": "ipython",
    "version": 3
   },
   "file_extension": ".py",
   "mimetype": "text/x-python",
   "name": "python",
   "nbconvert_exporter": "python",
   "pygments_lexer": "ipython3",
   "version": "3.11.2"
  }
 },
 "nbformat": 4,
 "nbformat_minor": 5
}
