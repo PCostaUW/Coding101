{
 "cells": [
  {
   "cell_type": "markdown",
   "id": "397ec254-3e16-4a1e-b050-1e858479a8ed",
   "metadata": {},
   "source": [
    "Lesson 2\n",
    "-\n",
    "    -kahoot and revision of lesson 1\n",
    "    -intro to turtle. What is a library? Why are we using turtle?\n",
    "    -basic turtle movement\n",
    "    -while loops\n",
    "    -functions\n",
    "    -for loops"
   ]
  },
  {
   "cell_type": "raw",
   "id": "a385f432-3872-4da3-ac4d-cdcb5806f943",
   "metadata": {},
   "source": [
    "#Kahoot questions\n",
    "#1\n",
    "What programming language are we using?\n",
    "Answer: Python\n",
    "\n",
    "\n",
    "#2\n",
    "What is the data type of this value: 42\n",
    "Answer: int\n",
    "\n",
    "\n",
    "#3\n",
    "Which of these is a valid Python comment:\n",
    "Answer: # This is a comment\n",
    "\n",
    "\n",
    "#4\n",
    "What data type is this value: \"True\"\n",
    "Answer: String\n",
    "(this is a trick question, True is a boolean, but it's in quotes here so it's a string)\n",
    "\n",
    "\n",
    "#5\n",
    "Which of the following is a boolean value?\n",
    "Answer: True\n",
    "\n",
    "\n",
    "#6\n",
    "What data type is the following: 42.0/7\n",
    "float\n",
    "\n",
    "#7 \n",
    "Choose the correct data type: 'Is ' + str(42.2) + ' a number?'\n",
    "str (string)\n",
    "\n",
    "#8\n",
    "If a=7 and b=2.5, which of the following returns False?\n",
    "a==b\n",
    "\n"
   ]
  },
  {
   "cell_type": "markdown",
   "id": "fe6183a1-1387-4f44-b538-c4f6575e7e43",
   "metadata": {},
   "source": [
    "Go over what they got wrong in the kahoot."
   ]
  },
  {
   "cell_type": "code",
   "execution_count": 7,
   "id": "4f7652db-a4f1-48f6-8461-d662feabf475",
   "metadata": {},
   "outputs": [],
   "source": [
    "#Introducing turtle\n",
    "#Why are we having you use turtle? \n",
    "# -visual feedback\n",
    "# -room for creativity and experimentation\n",
    "# -can progress toward a tangible final project/game that demonstrates your understanding of the basics of programming\n",
    "\n",
    "#Step 1: import turtle\n",
    "from turtle import * #installs everything from the turtle package. Fine for now, but we will soonbe more picky about what we import\n",
    "#potential error: 'No module name '_tkinter''\n",
    "#solution: pip install tk\n",
    "\n",
    "#Step 2: basic turtle commands (run each of these in their own cell so we can look at how each affects the turtle's movement)"
   ]
  },
  {
   "cell_type": "code",
   "execution_count": 10,
   "id": "cfcdbbc8-533e-420e-9d47-072f4dcd5a70",
   "metadata": {},
   "outputs": [],
   "source": [
    "forward(100) #move the turtle forward 100 units"
   ]
  },
  {
   "cell_type": "code",
   "execution_count": 11,
   "id": "a162cf25-3301-44b6-a905-335d3fb1ff6d",
   "metadata": {},
   "outputs": [],
   "source": [
    "clearscreen()"
   ]
  },
  {
   "cell_type": "code",
   "execution_count": 12,
   "id": "e5e97aae-2930-443c-98fe-0e348e75ccb1",
   "metadata": {},
   "outputs": [],
   "source": [
    "right(45) #rotate the turtle 45 degrees clockwise"
   ]
  },
  {
   "cell_type": "code",
   "execution_count": 13,
   "id": "b7abc792-a896-4a10-a0df-72b5fa20c92f",
   "metadata": {},
   "outputs": [],
   "source": [
    "forward(20) #move the turtle 20 units in the newly defined forward direction"
   ]
  },
  {
   "cell_type": "code",
   "execution_count": 14,
   "id": "7a51bc5f-2220-469c-8994-91e68b53889b",
   "metadata": {},
   "outputs": [],
   "source": [
    "left(90) #rotate the turtle 90 degrees counter-clockwise"
   ]
  },
  {
   "cell_type": "code",
   "execution_count": 15,
   "id": "bb197ad9-8328-4378-bcbc-0fbda015ce47",
   "metadata": {},
   "outputs": [],
   "source": [
    "backward(50) #move the turtle backward 50 units"
   ]
  },
  {
   "cell_type": "code",
   "execution_count": 16,
   "id": "ee408c8d-3ed0-4474-8c32-58a3dacd015a",
   "metadata": {},
   "outputs": [],
   "source": [
    "clearscreen()"
   ]
  },
  {
   "cell_type": "code",
   "execution_count": 17,
   "id": "05c03a8a-00a1-414a-a243-fafbff1fbff6",
   "metadata": {},
   "outputs": [],
   "source": [
    "#Now I want you to make a square and a triangle.\n",
    "#Also, a very important skill to develop is your ability to read documentation\n",
    "#change the color of your lines and fill in your shapes with a color of your choice"
   ]
  },
  {
   "cell_type": "code",
   "execution_count": 18,
   "id": "994c8128-7588-46e7-bcdb-234797fa9a87",
   "metadata": {},
   "outputs": [],
   "source": [
    "#square\n",
    "#define colors and initialize coloring\n",
    "color('red')\n",
    "fillcolor('orange')\n",
    "begin_fill()\n",
    "\n",
    "forward(100)\n",
    "left(90)\n",
    "forward(100)\n",
    "left(90)\n",
    "forward(100)\n",
    "left(90)\n",
    "forward(100)\n",
    "\n",
    "#fill in your square with the color of your choice\n",
    "end_fill()"
   ]
  },
  {
   "cell_type": "code",
   "execution_count": 19,
   "id": "35be28d6-cb5a-4083-ab01-7ab49bccd331",
   "metadata": {},
   "outputs": [],
   "source": [
    "clearscreen()"
   ]
  },
  {
   "cell_type": "code",
   "execution_count": 20,
   "id": "678053c6-688c-4ac7-b49d-75a241ad45d4",
   "metadata": {},
   "outputs": [],
   "source": [
    "#triangle\n",
    "#define colors and initialize coloring\n",
    "color('orange')\n",
    "fillcolor('blue')\n",
    "begin_fill()\n",
    "\n",
    "forward(300)\n",
    "left(120)\n",
    "forward(300)\n",
    "left(120)\n",
    "forward(300)\n",
    "\n",
    "#fill in your square with the color of your choice\n",
    "end_fill()"
   ]
  },
  {
   "cell_type": "code",
   "execution_count": 21,
   "id": "2cb9f8b8-1958-44d8-aa4e-7131b8804dd9",
   "metadata": {},
   "outputs": [],
   "source": [
    "#Now, without clearing your screen, run the above cell a few more times and notice what is happening\n",
    "#the turtle remains in its final position and orientation and then continues to draw once the cell is run again\n",
    "#we can see that it will repeat this pattern forever if we keep running that cell\n",
    "#Instead of manually re-running the cell to achieve this pattern, we can create what is called a \"loop\""
   ]
  },
  {
   "cell_type": "code",
   "execution_count": null,
   "id": "6031a7f9-9dd5-4e83-b64c-a2b50bf84086",
   "metadata": {},
   "outputs": [],
   "source": [
    "#an infinite loop\n",
    "while True:\n",
    "    color('orange')\n",
    "    fillcolor('blue')\n",
    "    begin_fill()\n",
    "\n",
    "    forward(300)\n",
    "    left(120)\n",
    "    forward(300)\n",
    "    left(120)\n",
    "    forward(300)\n",
    "\n",
    "    end_fill()"
   ]
  },
  {
   "cell_type": "code",
   "execution_count": 23,
   "id": "4f9a5d50-6f22-4dfd-899d-a577f865e29e",
   "metadata": {},
   "outputs": [],
   "source": [
    "#let's focus on our triangle. We want to create exaclty three triangle because any more than that is redundant.\n",
    "#here we will introduce functions and for-loops"
   ]
  },
  {
   "cell_type": "code",
   "execution_count": 24,
   "id": "c4aee719-e144-41e8-9b1a-e4a72958b1ba",
   "metadata": {},
   "outputs": [],
   "source": [
    "#here is a simple function\n",
    "def add_two_numbers(numberOne,numberTwo):\n",
    "    '''This is a docstring. This is treated the same way as a comment is, but is useful when other people want to run your code.\n",
    "    We use docstrings to tell the user what data types are meant to be passed into the function and what data type is returned.\n",
    "    In this case, this function expects two floats/integers and returns a float/integer.\n",
    "    '''\n",
    "    sum = numberOne + numberTwo\n",
    "    return sum"
   ]
  },
  {
   "cell_type": "code",
   "execution_count": 25,
   "id": "b5332748-6d2f-4edb-bdda-c83cf0b59e5f",
   "metadata": {},
   "outputs": [
    {
     "data": {
      "text/plain": [
       "65"
      ]
     },
     "execution_count": 25,
     "metadata": {},
     "output_type": "execute_result"
    }
   ],
   "source": [
    "#here is how we call a function\n",
    "add_two_numbers(52,13)"
   ]
  },
  {
   "cell_type": "code",
   "execution_count": 26,
   "id": "ba71fcb8-1ff4-4c82-a3c1-195f6509f431",
   "metadata": {},
   "outputs": [
    {
     "name": "stdout",
     "output_type": "stream",
     "text": [
      "65\n"
     ]
    }
   ],
   "source": [
    "#we can also assign the returned value to a variable\n",
    "result = add_two_numbers(52,13)\n",
    "print(result)"
   ]
  },
  {
   "cell_type": "code",
   "execution_count": 44,
   "id": "1a0b7d3e-b369-4c1c-a3c3-3507152ff59c",
   "metadata": {},
   "outputs": [],
   "source": [
    "#In our case, we are going to create a function that makes a triangle, this way we don't have to keep rewriting that block of code\n",
    "#A function DOES NOT need to return anything\n",
    "def triangle(outline,fill):\n",
    "    '''\n",
    "    Draws a triangle. \n",
    "    Takes two strings: the color of the borders of the triangle (outline) and the color to fill it in with (fill).\n",
    "    Does not return anything.\n",
    "    '''\n",
    "    color(outline)\n",
    "    fillcolor(fill)\n",
    "    begin_fill()\n",
    "\n",
    "    forward(300)\n",
    "    left(120)\n",
    "    forward(300)\n",
    "    left(120)\n",
    "    forward(300)\n",
    "\n",
    "    end_fill()"
   ]
  },
  {
   "cell_type": "code",
   "execution_count": 28,
   "id": "1c64ac4a-741e-422e-8dbc-6e4d19e9869f",
   "metadata": {},
   "outputs": [],
   "source": [
    "triangle('blue','red')"
   ]
  },
  {
   "cell_type": "code",
   "execution_count": 29,
   "id": "33559390-77ae-4551-a3af-c3a05ffc6d70",
   "metadata": {},
   "outputs": [
    {
     "name": "stdout",
     "output_type": "stream",
     "text": [
      "0\n",
      "1\n",
      "2\n",
      "3\n",
      "4\n"
     ]
    }
   ],
   "source": [
    "#now that we have a function that creates triangles, we can more easily make a loop to create as many as we like.\n",
    "#this is a simple for loop\n",
    "for i in range(5):\n",
    "    print(i)"
   ]
  },
  {
   "cell_type": "code",
   "execution_count": 36,
   "id": "207e58af-ec90-42c9-be53-aa001babad26",
   "metadata": {},
   "outputs": [],
   "source": [
    "clearscreen()"
   ]
  },
  {
   "cell_type": "code",
   "execution_count": 37,
   "id": "284274e2-005f-4dd0-8f18-905f72abcca0",
   "metadata": {},
   "outputs": [],
   "source": [
    "#Now I want you to use a for loop to make three triangles. \n",
    "for i in range(3):\n",
    "    triangle('blue','orange')"
   ]
  },
  {
   "cell_type": "code",
   "execution_count": 38,
   "id": "79f25958-26fd-418c-b4fb-1da2482cdf01",
   "metadata": {},
   "outputs": [
    {
     "name": "stdout",
     "output_type": "stream",
     "text": [
      "1\n",
      "78\n",
      "3\n",
      "cat\n",
      "blue\n",
      "apple\n"
     ]
    }
   ],
   "source": [
    "#Challenge: create a list of colors for both the outline and fill \n",
    "#then use a for loop to make three triangles with different outline and fill colors\n",
    "#To complete this challenge, I will first introduce lists to you\n",
    "\n",
    "#Here is a list\n",
    "my_numbers_list = [1,4,8,78,54,3]\n",
    "\n",
    "#Here is a list of strings\n",
    "my_strings_list = ['cat','blue','apple']\n",
    "\n",
    "#How to access elements of lists\n",
    "print(my_numbers_list[0])\n",
    "print(my_numbers_list[3])\n",
    "print(my_numbers_list[-1])\n",
    "\n",
    "#How to print every element of a list\n",
    "for word in my_strings_list:\n",
    "    print(word)"
   ]
  },
  {
   "cell_type": "code",
   "execution_count": 39,
   "id": "caa65e0f-d9cf-40ce-b61d-804086f4874a",
   "metadata": {},
   "outputs": [],
   "source": [
    "#Optional take-home challenge\n",
    "#Create two lists of colors of length 3 (one pair of colors for each triangle)\n",
    "#loop through both lists at the same time to create a triangle for each pair of colors\n",
    "#using documentation and the internet is encouraged! \n",
    "#I have purposefully not given you all of the necessary information to complete this at this moment.\n",
    "#Using resources on the internet is an incredibly important skill when it comes to coding."
   ]
  },
  {
   "cell_type": "code",
   "execution_count": 40,
   "id": "d3a2e129-701b-420e-9dfe-e741e31b57e4",
   "metadata": {},
   "outputs": [],
   "source": [
    "clearscreen()\n"
   ]
  },
  {
   "cell_type": "code",
   "execution_count": 41,
   "id": "dc11cac2-71c9-431f-8096-5ddf54af0945",
   "metadata": {},
   "outputs": [],
   "source": [
    "outlines = ['blue','purple','green']\n",
    "fills = ['red','pink','orange']\n",
    "for (out,fill) in zip(outlines,fills):\n",
    "    triangle(out,fill)"
   ]
  },
  {
   "cell_type": "code",
   "execution_count": 42,
   "id": "60bffcc3-fdd9-4330-906b-17c04a563c46",
   "metadata": {},
   "outputs": [],
   "source": [
    "for fill in fills:\n",
    "    for out in outlines:\n",
    "        triangle(out,fill)"
   ]
  },
  {
   "cell_type": "code",
   "execution_count": null,
   "id": "75ace302-2912-45f8-b583-f6bd840a525b",
   "metadata": {},
   "outputs": [],
   "source": []
  }
 ],
 "metadata": {
  "kernelspec": {
   "display_name": "Python 3 (ipykernel)",
   "language": "python",
   "name": "python3"
  },
  "language_info": {
   "codemirror_mode": {
    "name": "ipython",
    "version": 3
   },
   "file_extension": ".py",
   "mimetype": "text/x-python",
   "name": "python",
   "nbconvert_exporter": "python",
   "pygments_lexer": "ipython3",
   "version": "3.11.2"
  }
 },
 "nbformat": 4,
 "nbformat_minor": 5
}
